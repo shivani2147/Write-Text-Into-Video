{
 "cells": [
  {
   "cell_type": "code",
   "execution_count": 3,
   "id": "f355d091",
   "metadata": {},
   "outputs": [],
   "source": [
    "import cv2\n",
    "\n",
    "# Load / capture the video\n",
    "cap = cv2.VideoCapture(\"D:\\Videos\\Rabit.mp4\")\n",
    "\n",
    "# Define the codec and create a VideoWriter object\n",
    "fourcc = cv2.VideoWriter_fourcc(*'XVID')\n",
    "out = cv2.VideoWriter('D:\\My_Project\\Final Images & Videos\\Rabit.mp4', fourcc, 30.0, (640, 480))\n",
    "        # fourcc = its the video codec to be used for compression\n",
    "        # 30.0 - Frames Per Second (FPS)\n",
    "\n",
    "while True :          #infinite time loop run\n",
    "    ret, frame = cap.read()      #ret (return) means it will show that frame is getting or not from the video file\n",
    "                                 #frame means : it will read frame by frame from the video\n",
    "    if not ret :\n",
    "        break\n",
    "\n",
    "    frame = cv2.resize(frame, (640, 480))   #resize(width, height)\n",
    "    txt = \"THIS IS RABIT..!\"\n",
    "    txt_position = (350, 120)     #text position (X, Y)\n",
    "    font_name = cv2.FONT_HERSHEY_TRIPLEX      #font name\n",
    "    font_size = 1      #font size\n",
    "    color = (255, 255, 255)       #BGR = (0-255, 0-255, 0-255)\n",
    "    thickness = 1       #font thichness\n",
    "    cv2.putText(frame, txt, txt_position, font_name, font_size, color, thickness)\n",
    "    \n",
    "    # For shadow of the Text\n",
    "    color_shadow = (50, 50, 200)\n",
    "    cv2.putText(frame, txt, txt_position, font_name, font_size, color_shadow, thickness, lineType = cv2.LINE_AA, bottomLeftOrigin = True)\n",
    "\n",
    "    #To save image from video file in new image file\n",
    "    out.write(frame)\n",
    "    cv2.imshow(\"Frame\", frame)   \n",
    "    if cv2.waitKey(25) == ord('q') : \n",
    "        break\n",
    "        \n",
    "out.release()\n",
    "cap.release()          #will also release the video that is being captured\n",
    "cv2.destroyAllWindows()"
   ]
  }
 ],
 "metadata": {
  "kernelspec": {
   "display_name": "Python 3 (ipykernel)",
   "language": "python",
   "name": "python3"
  },
  "language_info": {
   "codemirror_mode": {
    "name": "ipython",
    "version": 3
   },
   "file_extension": ".py",
   "mimetype": "text/x-python",
   "name": "python",
   "nbconvert_exporter": "python",
   "pygments_lexer": "ipython3",
   "version": "3.10.9"
  }
 },
 "nbformat": 4,
 "nbformat_minor": 5
}
